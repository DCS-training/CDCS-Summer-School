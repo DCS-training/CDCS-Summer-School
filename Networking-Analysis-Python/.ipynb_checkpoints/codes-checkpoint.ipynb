{
 "cells": [
  {
   "cell_type": "markdown",
   "id": "55100052",
   "metadata": {
    "slideshow": {
     "slide_type": "slide"
    },
    "tags": []
   },
   "source": [
    "# Social Network Analysis in Python Lecture\n",
    "\n",
    "June 2021\n",
    "\n",
    "Pu Yan, Oxford Internet Institute, University of Oxford \n",
    "\n",
    "Email: <pu.yan@oii.ox.ac.uk> or <thuyanpu@gmail.com>"
   ]
  },
  {
   "cell_type": "markdown",
   "id": "1b512b48",
   "metadata": {
    "slideshow": {
     "slide_type": "slide"
    },
    "tags": []
   },
   "source": [
    "## Outline of the course\n",
    "\n",
    "0. Introduction\n",
    "\n",
    "    0.1 Defining networks\n",
    "    \n",
    "    0.2 Social network examples\n",
    "    \n",
    "1. Understanding networks: Key network concepts \n",
    "\n",
    "2. Nework 101: Data management\n",
    "    \n",
    "    2.1 Tookit for SNA in Python\n",
    "    \n",
    "    2.2 Basic network generation in NetworkX\n",
    "    \n",
    "    2.3 Importing real-world SNA datase\n",
    "    \n",
    "    2.4 Importing large-scale social network data\n",
    "\n",
    "3. Visualising networks\n",
    "    \n",
    "    3.1 Option 1: the NetworkX method\n",
    "    \n",
    "    3.2 Option 2: ploting interactive networks using pyvis\n",
    "\n",
    "4. Measuring networks: Centrality\n",
    "\n",
    "    4.1 Degree centrality\n",
    "    \n",
    "    4.2 Betweenness centrality \n",
    "    \n",
    "    4.3 Eigenvector centrality\n",
    "\n",
    "\n",
    "5. Identifying subgroups: Community detection \n",
    "\n",
    "    5.1 Connected components\n",
    "    \n",
    "    5.2 Modularity\n",
    "    \n",
    "    5.3 Cliques\n",
    "   \n",
    "6. Conclusion"
   ]
  },
  {
   "cell_type": "markdown",
   "id": "cd3ef2e5",
   "metadata": {
    "slideshow": {
     "slide_type": "slide"
    },
    "tags": []
   },
   "source": [
    "## Useful resources\n",
    "\n",
    "- Books:\n",
    "\n",
    "    - Leguina, Adrian. (2016). Analysing social networks. International Journal Of Research & Method In Education: IJRME, 39(4), Pp446-447. \n",
    "    \n",
    "    - M., K., Mohan, A., & Srinivasa, K. (2018). Practical social network analysis with Python (Computer communications and networks). Cham, Switzerland.\n",
    "    \n",
    "    - Al-Taie, M., & Kadry, S. (2017). Python for graph and network analysis (Advanced information and knowledge processing). Cham, Switzerland.    "
   ]
  },
  {
   "cell_type": "markdown",
   "id": "a74b0bed",
   "metadata": {
    "slideshow": {
     "slide_type": "subslide"
    },
    "tags": []
   },
   "source": [
    "- Online resources:\n",
    "    \n",
    "    - Exploring and Analyzing Network Data with Python: https://programminghistorian.org/en/lessons/exploring-and-analyzing-network-data-with-python\n",
    "    \n",
    "    - Introduction to Social Network Analysis using Gephi: https://towardsdatascience.com/how-to-get-started-with-social-network-analysis-6d527685d374 \n",
    "    \n",
    "    - A curated list of network analysis resources (including examples from different disciplines): https://github.com/briatte/awesome-network-analysis"
   ]
  },
  {
   "cell_type": "markdown",
   "id": "2715aabc",
   "metadata": {
    "slideshow": {
     "slide_type": "slide"
    },
    "tags": []
   },
   "source": [
    "## 0. Introduction\n",
    "\n",
    "### 0.1 Defining networks\n",
    "\n",
    "> A network is a set of links (ties or edges) and objects (nodes or vertices). \n",
    "\n",
    "> A generic hypothesis of network theory is that an actor's *position in a network* determines in part the *constraints* and *opportunities* that he or she will encounter, and therefore identifying that position is important for predicting actor outcomes such as performance, behavior or beliefs (Borgatti, Everett & Johnson, 2013)\n",
    "\n",
    "- Biological network: brain or neural network\n",
    "\n",
    "- Transportation network: flight routes network <https://www.igismap.com/flight-routes-network-analysis/>\n",
    "\n",
    "- Computer network "
   ]
  },
  {
   "cell_type": "markdown",
   "id": "36f1a554",
   "metadata": {
    "slideshow": {
     "slide_type": "subslide"
    },
    "tags": []
   },
   "source": [
    "### 0.2 Social network examples: \n",
    "\n",
    "- Literature: networks of fictional characters:\n",
    "\n",
    "Source: http://evelinag.com/blog/2016/01-25-social-network-force-awakens/index.html\n",
    "\n",
    "![Star war social network](img/star_war.png)"
   ]
  },
  {
   "cell_type": "markdown",
   "id": "a59868b2",
   "metadata": {
    "slideshow": {
     "slide_type": "subslide"
    },
    "tags": []
   },
   "source": [
    "- History: networks of historical figures:\n",
    "\n",
    "Source: http://sixdegreesoffrancisbacon.com/?ids=10000473&min_confidence=60&type=network "
   ]
  },
  {
   "cell_type": "markdown",
   "id": "926d96e4",
   "metadata": {
    "slideshow": {
     "slide_type": "subslide"
    },
    "tags": []
   },
   "source": [
    "- Culture: networks of cultural concepts:\n",
    "\n",
    "Yan & Yaseri, 2017\n",
    "\n",
    "![Semantic network](img/semantic_network.png)"
   ]
  },
  {
   "cell_type": "markdown",
   "id": "8d09d8a1",
   "metadata": {
    "slideshow": {
     "slide_type": "subslide"
    },
    "tags": []
   },
   "source": [
    "- Political science\n",
    "\n",
    "![US Political Blogs](img/us_political_blogs.png)"
   ]
  },
  {
   "cell_type": "markdown",
   "id": "1969936d",
   "metadata": {
    "slideshow": {
     "slide_type": "subslide"
    },
    "tags": []
   },
   "source": [
    "- Item recomendation system via vipartite network \n",
    "\n",
    "![Recommendation system](img/recommendation.png)"
   ]
  },
  {
   "cell_type": "markdown",
   "id": "2f1b8a25",
   "metadata": {
    "slideshow": {
     "slide_type": "slide"
    },
    "tags": []
   },
   "source": [
    "## 1. Understanding networks: Key network concepts  \n",
    "\n",
    "### The network \"language\"\n",
    "\n",
    "- A graph is a mathematical object that describes relationships between items. It consists of nodes that represent objects and edges that relate one node to another. \n",
    "\n",
    "- **Vertex**: A vertex is simply drawn as a node or a dot.\n",
    "\n",
    "- **Edge**: An edge (a set of two elements) is drawn as a line connecting two vertices\n",
    "\n",
    "    - **Undirected networks**: A network is undirected if every edge is bidirectional/symmetrical/reciprocal. \n",
    "    \n",
    "        - Examples: coauthorship; partnership; friendship\n",
    "        \n",
    "    - **Directed networks**: A network is directed if every edge is directional/asymmetrical/non-reciprocal.\n",
    "    \n",
    "        - Examples: followings on social media; \n",
    "                \n",
    "    - **Weight**: A weighted network has a label (weight) with every edge in the graph. Weights are usually real numbers. \n",
    "    \n",
    "        - Examples: weighted coauthorsship network (with each edge represents the number of collobaration between any pair of authors)"
   ]
  },
  {
   "cell_type": "markdown",
   "id": "ad20ddaf",
   "metadata": {
    "slideshow": {
     "slide_type": "subslide"
    },
    "tags": []
   },
   "source": [
    "- **Node degree**: the number of edges that are adjacent to the vertex\n",
    "\n",
    "    - For *directed networks*: degree of nodes = total number of *in-degree* and *out-degree*.\n",
    "\n",
    "    - **Average Degree of a network**: the average of the degrees of all the vertices in a network\n",
    "    \n",
    "- **Distance**: The distance between two nodes is defined as the number of edges along the shortest path connecting them.\n",
    "    \n",
    "    - **Average shortest path**: Average shortest path length over all pairs of nodes \n",
    "        \n",
    "        - a small length implies that the network is well connected globally. In contrast, a longer length implies that the network is sparsely connected globally"
   ]
  },
  {
   "cell_type": "markdown",
   "id": "7f9888ac",
   "metadata": {
    "slideshow": {
     "slide_type": "slide"
    },
    "tags": []
   },
   "source": [
    "## 2. Nework 101: Data management\n",
    "\n",
    "### 2.1 Toolkit for SNA in Python\n",
    "\n",
    "- Behind the network analysis in Python is graph algorithms, but we will skip this part for this course\n",
    "\n",
    "- We will use ```NetworkX``` for the creation, visualisation, and analysis of networks in this lecture \n",
    "\n",
    "- If you want to visualise more complex network. ```Gephi``` (https://gephi.org) is a more user-friendly toolkit for visualising and analysing social networks"
   ]
  },
  {
   "cell_type": "code",
   "execution_count": null,
   "id": "829e0075",
   "metadata": {
    "slideshow": {
     "slide_type": "subslide"
    },
    "tags": []
   },
   "outputs": [],
   "source": [
    "# Installing networkx, matplotlib skip this cell if you've already installed networkx in your local environment\n",
    "%pip install pandas\n",
    "%pip install networkx\n",
    "%pip install matplotlib\n",
    "%pip install pyvis"
   ]
  },
  {
   "cell_type": "code",
   "execution_count": null,
   "id": "183e69a0",
   "metadata": {
    "slideshow": {
     "slide_type": "subslide"
    },
    "tags": []
   },
   "outputs": [],
   "source": [
    "# Let's importing libraries before running codes\n",
    "import pandas as pd\n",
    "import networkx as nx\n",
    "%matplotlib inline\n",
    "import matplotlib.pyplot as plt\n",
    "from pyvis.network import Network"
   ]
  },
  {
   "cell_type": "markdown",
   "id": "1d69795a",
   "metadata": {
    "slideshow": {
     "slide_type": "subslide"
    },
    "tags": []
   },
   "source": [
    "### 2.2 Basic network generation in NetworkX\n",
    "\n",
    "We use ```networkx``` to generate a sample network of 5 nodes and try to calculate some of the main network characteristics"
   ]
  },
  {
   "cell_type": "code",
   "execution_count": null,
   "id": "07762e3d",
   "metadata": {
    "slideshow": {
     "slide_type": "subslide"
    },
    "tags": []
   },
   "outputs": [],
   "source": [
    "# We will first create a simple directed graph using nx.Graph()\n",
    "## Creating four nodes\n",
    "g = nx.Graph()\n",
    "g.add_node(1)\n",
    "g.add_nodes_from([2, 3, 4, 5])\n",
    "\n",
    "## Creading edges between nodes\n",
    "g.add_edges_from([(1,3), \n",
    "                  (2,3),\n",
    "                  (2,4),\n",
    "                  (2,5),\n",
    "                  (3,4),\n",
    "                  (3,5)])\n",
    "\n",
    "## We can now visualise the sample network\n",
    "nx.draw_networkx(g, node_color='orange', node_size=500)"
   ]
  },
  {
   "cell_type": "code",
   "execution_count": null,
   "id": "1b3cc799",
   "metadata": {
    "slideshow": {
     "slide_type": "subslide"
    },
    "tags": []
   },
   "outputs": [],
   "source": [
    "# We can list all the nodes and edges in the network\n",
    "print(\"Nodes of graph: \")\n",
    "print(g.nodes())\n",
    "print(\"\\nEdges of graph: \")\n",
    "print(g.edges())\n",
    "# We can also calculate the shortest path between any pair of nodes\n",
    "print(\"\\nShortest path between 4 and 5:\")\n",
    "p = nx.shortest_path_length(g, source=5, target=4)\n",
    "print(p)"
   ]
  },
  {
   "cell_type": "markdown",
   "id": "5750e5d7",
   "metadata": {
    "slideshow": {
     "slide_type": "subslide"
    },
    "tags": []
   },
   "source": [
    "### 2.3 Importing real-world SNA dataset \n",
    "\n",
    "We can **import** real-world social network dataset from csv files. There are mainly **two** types of data supported by networkX\n",
    "\n",
    "- **adjacency matrix** is a matrix with rows and columns at plot by nodes, where element Aij shows the number of links going from node i to node j\n",
    "\n",
    "- **edge list** another common format of dataset is edge list, which consists of a list of pairs of nodes\n",
    "\n",
    "You can create your own adjacency list or edge list in a regular spreadsheet and then import into python via networkx "
   ]
  },
  {
   "cell_type": "code",
   "execution_count": null,
   "id": "da1c0e09",
   "metadata": {
    "slideshow": {
     "slide_type": "subslide"
    },
    "tags": []
   },
   "outputs": [],
   "source": [
    "# Data type 1\n",
    "# In this example, the adjacency list says that Harry is married with Ginny; Ron is married with Hermione etc\n",
    "g = nx.read_adjlist('data/harry_family_adjlist.csv', delimiter = ',')\n",
    "nx.draw_networkx(g, node_color='red', node_size=700)"
   ]
  },
  {
   "cell_type": "code",
   "execution_count": null,
   "id": "71996ea1",
   "metadata": {
    "slideshow": {
     "slide_type": "subslide"
    },
    "tags": []
   },
   "outputs": [],
   "source": [
    "# Data type 2\n",
    "# We can also read from an edge list\n",
    "# In this example, the edge list contains pairs of nodes, for example Harry with Ginny (married), Ginny with Ron (siblings)\n",
    "g = nx.read_edgelist('data/harry_family_edgelist.csv', delimiter = ',')\n",
    "nx.draw_networkx(g, node_color='red', node_size=700)"
   ]
  },
  {
   "cell_type": "markdown",
   "id": "ed88729c",
   "metadata": {
    "slideshow": {
     "slide_type": "subslide"
    },
    "tags": []
   },
   "source": [
    "### 2.4 Importing large-scale social network data\n",
    "\n",
    "For this course, we will be analysing the network of **the corporate interlocks in Scotland** in the beginning of the twentieth century (1904-5). In the nineteenth century, joint stock companies were established to raise capital for heavy industry and textile industry.\n",
    "\n",
    "Joint stock companies are owned by the shareholders, who are represented by a board of directors. This opens up the possibility of interlocking directorates. By the end of the nineteenth century, joint stock companies had become the predominant form of business enterprise at the expense of private family businesses. Families, however, still exercised control through ownership and directorships.\n",
    "\n",
    "The data are taken from the book The Anatomy of Scottish Capital by John Scott and Michael Hughes. The nodes are the directors of the largest joint stock companies in Scotland in 1904-5. The edges represent co-directorates (ie. if they are shareholders of the same company)"
   ]
  },
  {
   "cell_type": "code",
   "execution_count": null,
   "id": "5a5a0f21",
   "metadata": {
    "slideshow": {
     "slide_type": "subslide"
    },
    "tags": []
   },
   "outputs": [],
   "source": [
    "# We have a header for the edgelist from \"source\" node to \"target\" node \n",
    "# We use pandas read_csv function to first import the edgelist data in to a dataframe\n",
    "# and then convert the dataframe of edgelist into a graph\n",
    "df = pd.read_csv(\"data/scotland_edgelist.csv\", sep=',')\n",
    "g = nx.from_pandas_edgelist(df, source='source', target='target')\n",
    "\n",
    "# We can first have an overview of the network\n",
    "print(nx.info(g))"
   ]
  },
  {
   "cell_type": "code",
   "execution_count": null,
   "id": "0b725541",
   "metadata": {
    "slideshow": {
     "slide_type": "subslide"
    },
    "tags": []
   },
   "outputs": [],
   "source": [
    "# Let's check out who are included in the network\n",
    "g.nodes()"
   ]
  },
  {
   "cell_type": "markdown",
   "id": "d844fb11",
   "metadata": {
    "slideshow": {
     "slide_type": "slide"
    },
    "tags": []
   },
   "source": [
    "## 3. Visualising networks\n",
    "\n",
    "### 3.1 Option 1: the NetworkX method\n",
    "\n",
    "NetworkX is not primarily a graph drawing package but it provides basic drawing capabilities by using matplotlib. \n",
    "\n",
    "circular_layout(): Position nodes on a circle.\n",
    "\n",
    "random_layout(): Position nodes uniformly at random in the unit square.\n",
    "\n",
    "rescale_layout(): Return scaled position array to (-scale, scale) in all axes.\n",
    "\n",
    "shell_layout(): Position nodes in concentric circles.\n",
    "\n",
    "spring_layout(): Position nodes using Fruchterman-Reingold force-directed algorithm.\n",
    "    \n",
    "    - Their purpose is to position the nodes of a graph in two-dimensional or three-dimensional space so that all the edges are of more or less equal length and there are as few crossing edges as possible\n",
    "\n",
    "spectral_layout(): Position nodes using the eigenvectors of the graph Laplacian.\n",
    "\n",
    "kamada_kawai_layout(): Position nodes using Kamada-Kawai path-length cost-function.\n",
    "\n",
    "*Note: For more complex network visualisation, use professional network visualisation tools such as Gephi*"
   ]
  },
  {
   "cell_type": "code",
   "execution_count": null,
   "id": "487819e0",
   "metadata": {
    "slideshow": {
     "slide_type": "subslide"
    },
    "tags": []
   },
   "outputs": [],
   "source": [
    "# random layout\n",
    "plt.figure(figsize=(10,10))\n",
    "pos = nx.random_layout(g)\n",
    "nx.draw(g, node_size = 10, node_color='cyan', with_labels=False) \n",
    "nx.draw_networkx_labels(g, pos)\n",
    "plt.show()\n",
    "\n",
    "# use this line to save a copy of your network visualisation\n",
    "plt.savefig('result/networkx_random.png')"
   ]
  },
  {
   "cell_type": "code",
   "execution_count": null,
   "id": "f87f6d1a",
   "metadata": {
    "slideshow": {
     "slide_type": "subslide"
    },
    "tags": []
   },
   "outputs": [],
   "source": [
    "# spring layout\n",
    "plt.figure(figsize=(15, 10))\n",
    "pos = nx.spring_layout(g)\n",
    "nx.draw(g, node_size = 10, node_color='cyan', with_labels=False) \n",
    "nx.draw_networkx_labels(g, pos)\n",
    "plt.show()\n",
    "\n",
    "# use this line to save a copy of your network visualisation\n",
    "plt.savefig('result/networkx_spring.png')"
   ]
  },
  {
   "cell_type": "code",
   "execution_count": null,
   "id": "22def095",
   "metadata": {
    "slideshow": {
     "slide_type": "subslide"
    },
    "tags": []
   },
   "outputs": [],
   "source": [
    "# random layout\n",
    "plt.figure(figsize=(10,10))\n",
    "pos = nx.kamada_kawai_layout(g)\n",
    "nx.draw(g, node_size = 10, node_color='cyan', with_labels=False) \n",
    "nx.draw_networkx_labels(g, pos)\n",
    "plt.show()\n",
    "\n",
    "# use this line to save a copy of your network visualisation\n",
    "plt.savefig('result/networkx_kamada.png')"
   ]
  },
  {
   "cell_type": "markdown",
   "id": "a0ae1ebd",
   "metadata": {
    "slideshow": {
     "slide_type": "subslide"
    },
    "tags": []
   },
   "source": [
    "### 3.2 Option 2: ploting interactive networks using pyvis\n",
    "\n",
    "The pyvis library is meant for quick generation of visual network graphs with minimal python code. It is designed as a wrapper around the popular Javascript visJS library found at this link: https://visjs.github.io/vis-network/examples/ \n",
    "\n",
    "The best part about pyvis is its interactive features: You can zoom, select, hover nodes in your visualisaion. \n"
   ]
  },
  {
   "cell_type": "code",
   "execution_count": null,
   "id": "3b2013c7",
   "metadata": {
    "slideshow": {
     "slide_type": "subslide"
    },
    "tags": []
   },
   "outputs": [],
   "source": [
    "net = Network(notebook=True)\n",
    "# load the networkx graph\n",
    "net.from_nx(g)\n",
    "net.show(\"result/pyvis_director.html\")"
   ]
  },
  {
   "cell_type": "markdown",
   "id": "039c65f7",
   "metadata": {
    "slideshow": {
     "slide_type": "slide"
    },
    "tags": []
   },
   "source": [
    "## 4. Measuring networks: Centrality\n",
    "\n",
    "A social network can contain millions of users. Some of these users are more active or more powerful than other users.\n",
    "\n",
    "How to measure the structural importance of nodes in the network? \n",
    "\n",
    "- **Degree centrality**: the number of connections (edges) to other users as the measure of importance\n",
    "\n",
    "- **Betweenness centrality** describes how important a user is as a link between different network segments\n",
    "\n",
    "    - Identifying bridges/brokerages\n",
    "    \n",
    "    - \"Structural holes\": An individual who acts as a mediator between two or more closely connected groups of people could gain important comparative advantages. \n",
    "\n",
    "- **Eigenvector centrality** measurement describes the centrality of a person with regard to the global structure of the network. \n",
    "    \n",
    "    - It assigns relative scores to all nodes in the network based on the concept that connections to nodes with high scoring contrib- ute more to the score of the node in question than connections to nodes with low scoring.\n",
    "    \n",
    "- **PageRank**, which is a variant of the eigenvector centrality measure\n",
    "\n",
    "    - According to PageRank algorithm, the importance of a page is determined by the importance of the pages that it is linked to. A page is assigned a high rank if the sum of the ranks of its back- links is high. Otherwise, it is assigned a low rank.\n",
    "    \n",
    "    - PageRank algorithm gives nontrivial results only for asymmetric networks. If links are symmetric (undirected), the PageRank values will be the same as node degrees.\n",
    "    \n",
    "    - PageRank was proposed to index Web pages. However, it can also be applied to calculate centrality for directed graphs in social networks."
   ]
  },
  {
   "cell_type": "markdown",
   "id": "03899797",
   "metadata": {
    "slideshow": {
     "slide_type": "subslide"
    },
    "tags": []
   },
   "source": [
    "### 4.1 Degree centrality"
   ]
  },
  {
   "cell_type": "code",
   "execution_count": null,
   "id": "320588ab",
   "metadata": {
    "slideshow": {
     "slide_type": "subslide"
    },
    "tags": []
   },
   "outputs": [],
   "source": [
    "# An important measure of a node in a graph is degree which\n",
    "# For undirected graphs, is the number of connections the node has.\n",
    "# To see the node degrees in the network\n",
    "g.degree()"
   ]
  },
  {
   "cell_type": "code",
   "execution_count": null,
   "id": "aa0a59f4",
   "metadata": {
    "slideshow": {
     "slide_type": "subslide"
    },
    "tags": []
   },
   "outputs": [],
   "source": [
    "# Sometimes we want to plot a histgram of node degrees\n",
    "# We create a function for this purpose\n",
    "def plot_degree_dist(G):\n",
    "    degrees = [G.degree(n) for n in G.nodes()]\n",
    "    plt.hist(degrees)\n",
    "    plt.show()\n",
    "\n",
    "plot_degree_dist(g)"
   ]
  },
  {
   "cell_type": "code",
   "execution_count": null,
   "id": "0fe346d3",
   "metadata": {
    "slideshow": {
     "slide_type": "subslide"
    },
    "tags": []
   },
   "outputs": [],
   "source": [
    "# But we want to know which codes have the highest node degree\n",
    "degree_sorted = sorted(g.degree, key=lambda x: x[1], reverse=True)\n",
    "# We show the top 10 highest ranked nodes, measured by degree centrality\n",
    "top_10_degree = degree_sorted[:10]\n",
    "top_10_degree = pd.DataFrame(top_10_degree,columns=['node','degree centrality'])\n",
    "top_10_degree"
   ]
  },
  {
   "cell_type": "markdown",
   "id": "5ede4172",
   "metadata": {
    "slideshow": {
     "slide_type": "subslide"
    },
    "tags": []
   },
   "source": [
    "### 4.2 Betweenness centrality"
   ]
  },
  {
   "cell_type": "code",
   "execution_count": null,
   "id": "383df632",
   "metadata": {
    "slideshow": {
     "slide_type": "subslide"
    },
    "tags": []
   },
   "outputs": [],
   "source": [
    "# Betweenness centrality\n",
    "betweenness_centrality = nx.betweenness_centrality(g)\n",
    "bet_sorted = sorted(betweenness_centrality.items(), key=lambda x: x[1], reverse=True)\n",
    "top_10_bet = bet_sorted[:10]\n",
    "top_10_bet = pd.DataFrame(top_10_bet,columns=['node','betweenness centrality'])\n",
    "top_10_bet"
   ]
  },
  {
   "cell_type": "markdown",
   "id": "73f87f18",
   "metadata": {
    "slideshow": {
     "slide_type": "subslide"
    },
    "tags": []
   },
   "source": [
    "### 4.3 Eigenvector centrality"
   ]
  },
  {
   "cell_type": "code",
   "execution_count": null,
   "id": "56e69f0e",
   "metadata": {
    "slideshow": {
     "slide_type": "subslide"
    },
    "tags": []
   },
   "outputs": [],
   "source": [
    "# Eigenvector centrality\n",
    "eigenvector_centrality = nx.eigenvector_centrality(g)\n",
    "eig_sorted = sorted(eigenvector_centrality.items(), key=lambda x: x[1], reverse=True)\n",
    "top_10_eig = eig_sorted[:10]\n",
    "top_10_eig = pd.DataFrame(top_10_eig,columns=['node','eigenvector centrality'])\n",
    "top_10_eig"
   ]
  },
  {
   "cell_type": "code",
   "execution_count": null,
   "id": "f99e2477",
   "metadata": {
    "slideshow": {
     "slide_type": "subslide"
    },
    "tags": []
   },
   "outputs": [],
   "source": [
    "# Some nodes might be considered as \"central\" using one measurement\n",
    "# But is not central using another measurement\n",
    "# Some nodes, however, are central, when measured in all three measurements!\n",
    "\n",
    "top_10 = pd.merge(top_10_degree, top_10_bet, on = ['node'], how = \"outer\")\n",
    "top_10 = pd.merge(top_10, top_10_eig, on = ['node'], how = \"outer\")\n",
    "top_10"
   ]
  },
  {
   "cell_type": "markdown",
   "id": "61e6f2fb",
   "metadata": {
    "slideshow": {
     "slide_type": "slide"
    },
    "tags": []
   },
   "source": [
    "## 5. Community detection\n",
    "\n",
    "- The task of community detection is to discover subsets of nodes of connected communities in which nodes have many internal edges and few external edges. \n",
    "\n",
    "- Alternative names for sub-communities: clustering, sub-groups\n",
    "\n",
    "- K-cliques, modularity optimization, and link communities are some of the popular methods in the stream of community detection\n",
    "\n",
    "- We won't go into details on the calculation/algorithms behind community detection\n",
    "\n",
    "- We will introduce the use of modularity optimization in networkx and cliques in this course"
   ]
  },
  {
   "cell_type": "markdown",
   "id": "63de4344",
   "metadata": {
    "slideshow": {
     "slide_type": "subslide"
    },
    "tags": []
   },
   "source": [
    "### 5.1 Connected components \n",
    "\n",
    "You might noticed that some nodes are not connected with the core of the network in the visualisation. \n",
    "\n",
    "We will use networkx to generate the largest connected component of the network."
   ]
  },
  {
   "cell_type": "code",
   "execution_count": null,
   "id": "06cb4d3b",
   "metadata": {},
   "outputs": [],
   "source": [
    "# Let's extract a subgraph of the largest connected component of the network\n",
    "g_connected = sorted(nx.connected_components(g), key=len, reverse=True)\n",
    "g_1 = g.subgraph(g_connected[0])"
   ]
  },
  {
   "cell_type": "code",
   "execution_count": null,
   "id": "e96d90a0",
   "metadata": {},
   "outputs": [],
   "source": [
    "# Let's visualise the subgraph and see how it is different from the visualisation of the whole network\n",
    "net = Network(notebook=True)\n",
    "# load the networkx graph\n",
    "net.from_nx(g_1)\n",
    "net.show(\"result/pyvis_director_largest_component.html\")"
   ]
  },
  {
   "cell_type": "markdown",
   "id": "35322df0",
   "metadata": {
    "slideshow": {
     "slide_type": "subslide"
    },
    "tags": []
   },
   "source": [
    "### 5.2 Modularity\n",
    "\n",
    "**Modularity optimatisation** is often used in optimization methods for detecting community structure in networks.\n",
    "\n",
    "- Modularity is the fraction of the edges that fall within the given groups minus the expected fraction if edges were distributed at random. The value of the modularity for unweighted and undirected graphs lies in the range [-1/2, 1]\n",
    "\n",
    "- It is positive if the number of edges within groups exceeds the number expected on the basis of chance. "
   ]
  },
  {
   "cell_type": "code",
   "execution_count": null,
   "id": "e3af535d",
   "metadata": {
    "slideshow": {
     "slide_type": "subslide"
    },
    "tags": []
   },
   "outputs": [],
   "source": [
    "import networkx.algorithms.community as nxcom\n",
    "\n",
    "# Find the communities\n",
    "communities = sorted(nxcom.greedy_modularity_communities(g), key=len, reverse=True)\n",
    "\n",
    "# Count the communities\n",
    "print(f\"The corporate interlocks network in Scotland has {len(communities)} communities.\")\n"
   ]
  },
  {
   "cell_type": "code",
   "execution_count": null,
   "id": "abe47037",
   "metadata": {
    "slideshow": {
     "slide_type": "subslide"
    },
    "tags": []
   },
   "outputs": [],
   "source": [
    "# The output of the community detection consists of sets of vertex numbers (set of sets)\n",
    "communities"
   ]
  },
  {
   "cell_type": "code",
   "execution_count": null,
   "id": "3897c7bd",
   "metadata": {
    "slideshow": {
     "slide_type": "subslide"
    },
    "tags": []
   },
   "outputs": [],
   "source": [
    "# If we wish to visualize this we need to define a few utilities. \n",
    "# The methods simply assign the community number to the nodes and edges\n",
    "\n",
    "plt.rcParams.update(plt.rcParamsDefault)\n",
    "plt.rcParams.update({'figure.figsize': (25, 25)})\n",
    "#plt.style.use('dark_background')\n",
    "\n",
    "def set_node_community(G, communities):\n",
    "    '''Add community to node attributes'''\n",
    "    for c, v_c in enumerate(communities):\n",
    "        for v in v_c:\n",
    "            # Add 1 to save 0 for external edges\n",
    "            G.nodes[v]['community'] = c + 1\n",
    "\n",
    "def set_edge_community(G):\n",
    "    '''Find internal edges and add their community to their attributes'''\n",
    "    for v, w, in G.edges:\n",
    "        if G.nodes[v]['community'] == G.nodes[w]['community']:\n",
    "            # Internal edge, mark with community\n",
    "            G.edges[v, w]['community'] = G.nodes[v]['community']\n",
    "        else:\n",
    "            # External edge, mark as 0\n",
    "            G.edges[v, w]['community'] = 0\n",
    "\n",
    "def get_color(i, r_off=1, g_off=1, b_off=1):\n",
    "    '''Assign a color to a vertex.'''\n",
    "    r0, g0, b0 = 0, 0, 0\n",
    "    n = 16\n",
    "    low, high = 0.1, 0.9\n",
    "    span = high - low\n",
    "    r = low + span * (((i + r_off) * 3) % n) / (n - 1)\n",
    "    g = low + span * (((i + g_off) * 5) % n) / (n - 1)\n",
    "    b = low + span * (((i + b_off) * 7) % n) / (n - 1)\n",
    "    return (r, g, b)       \n",
    "\n",
    "# Set node and edge communities\n",
    "set_node_community(g, communities)\n",
    "set_edge_community(g)\n",
    "\n",
    "\n",
    "# Set community color for internal edges\n",
    "external = [(v, w) for v, w in g.edges if g.edges[v, w]['community'] == 0]\n",
    "internal = [(v, w) for v, w in g.edges if g.edges[v, w]['community'] > 0]\n",
    "internal_color = [\"black\" for e in internal]\n",
    "node_color = [get_color(g.nodes[v]['community']) for v in g.nodes]\n",
    "\n",
    "# external edges\n",
    "nx.draw_networkx(\n",
    "    g, \n",
    "    pos=pos, \n",
    "    node_size=0, \n",
    "    edgelist=external, \n",
    "    edge_color=\"silver\",\n",
    "    node_color=node_color,\n",
    "    alpha=0.05, \n",
    "    with_labels=False)\n",
    "\n",
    "# internal edges\n",
    "nx.draw_networkx(\n",
    "    g, \n",
    "    pos=pos,\n",
    "    edgelist=internal, \n",
    "    edge_color=internal_color,\n",
    "    node_color=node_color,\n",
    "    alpha=0.3, # Making internal edges less transparent than external edges\n",
    "    with_labels=False)\n",
    "\n",
    "nx.draw_networkx_labels(g, pos, verticalalignment = 'center_baseline')\n",
    "\n",
    "# Save the visualisation in result folder\n",
    "plt.savefig('result/community.png')\n"
   ]
  },
  {
   "cell_type": "markdown",
   "id": "6420627a",
   "metadata": {
    "slideshow": {
     "slide_type": "subslide"
    },
    "tags": []
   },
   "source": [
    "### 5.3 Cliques\n",
    "\n",
    "We can also study clique, which is a subset of nodes where every part of node in the clique is connected\n",
    "\n",
    "Let’s look at the largest clique in the corporate interlocks network"
   ]
  },
  {
   "cell_type": "code",
   "execution_count": null,
   "id": "d421a165",
   "metadata": {
    "slideshow": {
     "slide_type": "subslide"
    },
    "tags": []
   },
   "outputs": [],
   "source": [
    "plt.rcParams.update(plt.rcParamsDefault)\n",
    "plt.rcParams.update({'figure.figsize': (25, 25)})\n",
    "\n",
    "pos = nx.spring_layout(g)\n",
    "\n",
    "# identify cliques in the network\n",
    "cliques = list(nx.find_cliques(g)) \n",
    "\n",
    "# finding the largest clique in the network\n",
    "max_clique = max(cliques, key=len)\n",
    "\n",
    "# Let's set a different colour for nodes in the clique\n",
    "node_color = [(0.5, 0.5, 0.5) for v in g.nodes()]\n",
    "for i, v in enumerate(g.nodes()):\n",
    "    if v in max_clique:\n",
    "        node_color[i] = (0.5, 0.5, 0.9)\n",
    "\n",
    "nx.draw_networkx(g,node_size = 100, node_color=node_color, pos=pos, alpha = 0.8)\n",
    "\n",
    "plt.savefig('result/visualising_clique.png')"
   ]
  },
  {
   "cell_type": "markdown",
   "id": "0e958301",
   "metadata": {
    "slideshow": {
     "slide_type": "slide"
    },
    "tags": []
   },
   "source": [
    "## Conclusion\n",
    "\n",
    "- Graph theory as the \"language\" of network science\n",
    "\n",
    "- Structural perspective of the world\n",
    "\n",
    "- Python as a tool to construct, visualise, and analyse social networks \n",
    "\n",
    "![Network society](img/network.png)"
   ]
  },
  {
   "cell_type": "code",
   "execution_count": null,
   "id": "11fd9ba1",
   "metadata": {},
   "outputs": [],
   "source": []
  }
 ],
 "metadata": {
  "kernelspec": {
   "display_name": "Python 3",
   "language": "python",
   "name": "python3"
  },
  "language_info": {
   "codemirror_mode": {
    "name": "ipython",
    "version": 3
   },
   "file_extension": ".py",
   "mimetype": "text/x-python",
   "name": "python",
   "nbconvert_exporter": "python",
   "pygments_lexer": "ipython3",
   "version": "3.8.5"
  }
 },
 "nbformat": 4,
 "nbformat_minor": 5
}
