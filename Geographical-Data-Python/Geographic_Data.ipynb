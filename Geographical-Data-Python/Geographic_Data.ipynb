{
 "cells": [
  {
   "cell_type": "markdown",
   "metadata": {},
   "source": [
    "# Import Packages"
   ]
  },
  {
   "cell_type": "code",
   "execution_count": 2,
   "metadata": {},
   "outputs": [
    {
     "name": "stdout",
     "output_type": "stream",
     "text": [
      "Collecting geopandas\n",
      "  Downloading geopandas-0.9.0-py2.py3-none-any.whl (994 kB)\n",
      "\u001b[K     |████████████████████████████████| 994 kB 3.6 MB/s eta 0:00:01\n",
      "\u001b[?25hCollecting pyproj>=2.2.0\n",
      "  Downloading pyproj-3.1.0-cp37-cp37m-manylinux2010_x86_64.whl (6.6 MB)\n",
      "\u001b[K     |████████████████████████████████| 6.6 MB 8.2 MB/s eta 0:00:01\n",
      "\u001b[?25hCollecting shapely>=1.6\n",
      "  Downloading Shapely-1.7.1-cp37-cp37m-manylinux1_x86_64.whl (1.0 MB)\n",
      "\u001b[K     |████████████████████████████████| 1.0 MB 23.4 MB/s eta 0:00:01\n",
      "\u001b[?25hRequirement already satisfied: pandas>=0.24.0 in /opt/conda/lib/python3.7/site-packages (from geopandas) (1.1.4)\n",
      "Collecting fiona>=1.8\n",
      "  Downloading Fiona-1.8.20-cp37-cp37m-manylinux1_x86_64.whl (15.4 MB)\n",
      "\u001b[K     |████████████████████████████████| 15.4 MB 12.3 MB/s eta 0:00:01\n",
      "\u001b[?25hRequirement already satisfied: certifi in /opt/conda/lib/python3.7/site-packages (from pyproj>=2.2.0->geopandas) (2020.12.5)\n",
      "Requirement already satisfied: python-dateutil>=2.7.3 in /opt/conda/lib/python3.7/site-packages (from pandas>=0.24.0->geopandas) (2.8.1)\n",
      "Requirement already satisfied: pytz>=2017.2 in /opt/conda/lib/python3.7/site-packages (from pandas>=0.24.0->geopandas) (2021.1)\n",
      "Requirement already satisfied: numpy>=1.15.4 in /opt/conda/lib/python3.7/site-packages (from pandas>=0.24.0->geopandas) (1.19.4)\n",
      "Collecting munch\n",
      "  Downloading munch-2.5.0-py2.py3-none-any.whl (10 kB)\n",
      "Requirement already satisfied: click>=4.0 in /opt/conda/lib/python3.7/site-packages (from fiona>=1.8->geopandas) (7.1.2)\n",
      "Collecting click-plugins>=1.0\n",
      "  Downloading click_plugins-1.1.1-py2.py3-none-any.whl (7.5 kB)\n",
      "Collecting cligj>=0.5\n",
      "  Downloading cligj-0.7.2-py3-none-any.whl (7.1 kB)\n",
      "Requirement already satisfied: six>=1.7 in /opt/conda/lib/python3.7/site-packages (from fiona>=1.8->geopandas) (1.14.0)\n",
      "Requirement already satisfied: setuptools in /opt/conda/lib/python3.7/site-packages (from fiona>=1.8->geopandas) (46.0.0.post20200311)\n",
      "Requirement already satisfied: attrs>=17 in /opt/conda/lib/python3.7/site-packages (from fiona>=1.8->geopandas) (19.3.0)\n",
      "Installing collected packages: pyproj, shapely, munch, click-plugins, cligj, fiona, geopandas\n",
      "Successfully installed click-plugins-1.1.1 cligj-0.7.2 fiona-1.8.20 geopandas-0.9.0 munch-2.5.0 pyproj-3.1.0 shapely-1.7.1\n",
      "Note: you may need to restart the kernel to use updated packages.\n",
      "\u001b[31mERROR: Could not find a version that satisfies the requirement matplotlib.pyplot (from versions: none)\u001b[0m\n",
      "\u001b[31mERROR: No matching distribution found for matplotlib.pyplot\u001b[0m\n",
      "Note: you may need to restart the kernel to use updated packages.\n",
      "Requirement already satisfied: numpy in /opt/conda/lib/python3.7/site-packages (1.19.4)\n",
      "Note: you may need to restart the kernel to use updated packages.\n",
      "\u001b[31mERROR: Could not find a version that satisfies the requirement shapely.geometry (from versions: none)\u001b[0m\n",
      "\u001b[31mERROR: No matching distribution found for shapely.geometry\u001b[0m\n",
      "Note: you may need to restart the kernel to use updated packages.\n"
     ]
    }
   ],
   "source": [
    "%pip install geopandas\n",
    "%pip install matplotlib.pyplot\n",
    "%pip install numpy\n",
    "%pip install shapely.geometry"
   ]
  },
  {
   "cell_type": "code",
   "execution_count": 3,
   "metadata": {},
   "outputs": [],
   "source": [
    "import geopandas as gpd\n",
    "import matplotlib.pyplot as plt\n",
    "import pandas as pd\n",
    "import numpy as np\n",
    "from shapely.geometry import Point, Polygon"
   ]
  },
  {
   "cell_type": "markdown",
   "metadata": {},
   "source": [
    "# Import Shapefile and Show Data"
   ]
  },
  {
   "cell_type": "code",
   "execution_count": null,
   "metadata": {},
   "outputs": [],
   "source": [
    "# Geopandas offers the most straighforward approach to importing geospatial data\n",
    "# Be sure that all necessary files are in the same folder as the .shp"
   ]
  },
  {
   "cell_type": "code",
   "execution_count": 4,
   "metadata": {},
   "outputs": [],
   "source": [
    "Points_Shape = gpd.read_file(\"Data/Shapefiles/Points.shp\")\n",
    "Lines_Shape = gpd.read_file(\"Data/Shapefiles/Lines.shp\")\n",
    "Polygons_Shape = gpd.read_file(\"Data/Shapefiles/Polygons.shp\")"
   ]
  },
  {
   "cell_type": "code",
   "execution_count": 5,
   "metadata": {},
   "outputs": [
    {
     "data": {
      "text/plain": [
       "geopandas.geodataframe.GeoDataFrame"
      ]
     },
     "execution_count": 5,
     "metadata": {},
     "output_type": "execute_result"
    }
   ],
   "source": [
    "type(Points_Shape)\n",
    "# Type shows that this is a geodataframe"
   ]
  },
  {
   "cell_type": "code",
   "execution_count": 6,
   "metadata": {
    "scrolled": true
   },
   "outputs": [
    {
     "data": {
      "text/html": [
       "<div>\n",
       "<style scoped>\n",
       "    .dataframe tbody tr th:only-of-type {\n",
       "        vertical-align: middle;\n",
       "    }\n",
       "\n",
       "    .dataframe tbody tr th {\n",
       "        vertical-align: top;\n",
       "    }\n",
       "\n",
       "    .dataframe thead th {\n",
       "        text-align: right;\n",
       "    }\n",
       "</style>\n",
       "<table border=\"1\" class=\"dataframe\">\n",
       "  <thead>\n",
       "    <tr style=\"text-align: right;\">\n",
       "      <th></th>\n",
       "      <th>ID</th>\n",
       "      <th>geometry</th>\n",
       "    </tr>\n",
       "  </thead>\n",
       "  <tbody>\n",
       "    <tr>\n",
       "      <th>0</th>\n",
       "      <td>7</td>\n",
       "      <td>POINT (-4.67415 57.32240)</td>\n",
       "    </tr>\n",
       "    <tr>\n",
       "      <th>1</th>\n",
       "      <td>8</td>\n",
       "      <td>POINT (-6.57746 58.18926)</td>\n",
       "    </tr>\n",
       "    <tr>\n",
       "      <th>2</th>\n",
       "      <td>3</td>\n",
       "      <td>POINT (-5.96210 55.91855)</td>\n",
       "    </tr>\n",
       "    <tr>\n",
       "      <th>3</th>\n",
       "      <td>4</td>\n",
       "      <td>POINT (-6.79427 54.72280)</td>\n",
       "    </tr>\n",
       "    <tr>\n",
       "      <th>4</th>\n",
       "      <td>6</td>\n",
       "      <td>POINT (-3.07777 56.04782)</td>\n",
       "    </tr>\n",
       "  </tbody>\n",
       "</table>\n",
       "</div>"
      ],
      "text/plain": [
       "   ID                   geometry\n",
       "0   7  POINT (-4.67415 57.32240)\n",
       "1   8  POINT (-6.57746 58.18926)\n",
       "2   3  POINT (-5.96210 55.91855)\n",
       "3   4  POINT (-6.79427 54.72280)\n",
       "4   6  POINT (-3.07777 56.04782)"
      ]
     },
     "execution_count": 6,
     "metadata": {},
     "output_type": "execute_result"
    }
   ],
   "source": [
    "Points_Shape.head()\n",
    "# This shows that the the geospatial data has some basic attributes attached to it, numerical ID in this case"
   ]
  },
  {
   "cell_type": "code",
   "execution_count": 7,
   "metadata": {},
   "outputs": [
    {
     "data": {
      "text/plain": [
       "<Geographic 2D CRS: EPSG:4326>\n",
       "Name: WGS 84\n",
       "Axis Info [ellipsoidal]:\n",
       "- Lat[north]: Geodetic latitude (degree)\n",
       "- Lon[east]: Geodetic longitude (degree)\n",
       "Area of Use:\n",
       "- name: World.\n",
       "- bounds: (-180.0, -90.0, 180.0, 90.0)\n",
       "Datum: World Geodetic System 1984 ensemble\n",
       "- Ellipsoid: WGS 84\n",
       "- Prime Meridian: Greenwich"
      ]
     },
     "execution_count": 7,
     "metadata": {},
     "output_type": "execute_result"
    }
   ],
   "source": [
    "Points_Shape.crs\n",
    "# Information regarding the CRS can be generated using .crs\n",
    "# CRS can be changed using .to_crs()"
   ]
  },
  {
   "cell_type": "markdown",
   "metadata": {},
   "source": [
    "# Plot Basic Shapefiles"
   ]
  },
  {
   "cell_type": "code",
   "execution_count": 8,
   "metadata": {
    "scrolled": false
   },
   "outputs": [
    {
     "data": {
      "text/plain": [
       "<matplotlib.axes._subplots.AxesSubplot at 0x7fe779bd3f10>"
      ]
     },
     "execution_count": 8,
     "metadata": {},
     "output_type": "execute_result"
    },
    {
     "data": {
      "image/png": "[encoded data removed]",
      "text/plain": [
       "<Figure size 432x288 with 1 Axes>"
      ]
     },
     "metadata": {
      "needs_background": "light"
     },
     "output_type": "display_data"
    }
   ],
   "source": [
    "Points_Shape.plot()\n",
    "# The basic plot fucntion in geopandas can very easily generate a plot based on the geospatial information"
   ]
  },
  {
   "cell_type": "code",
   "execution_count": 9,
   "metadata": {
    "scrolled": true
   },
   "outputs": [
    {
     "data": {
      "text/plain": [
       "<matplotlib.axes._subplots.AxesSubplot at 0x7fe779a5cf10>"
      ]
     },
     "execution_count": 9,
     "metadata": {},
     "output_type": "execute_result"
    },
    {
     "data": {
      "image/png": "[encoded data removed]",
      "text/plain": [
       "<Figure size 432x288 with 1 Axes>"
      ]
     },
     "metadata": {
      "needs_background": "light"
     },
     "output_type": "display_data"
    },
    {
     "data": {
      "image/png": "[encoded data removed]",
      "text/plain": [
       "<Figure size 432x288 with 1 Axes>"
      ]
     },
     "metadata": {
      "needs_background": "light"
     },
     "output_type": "display_data"
    },
    {
     "data": {
      "image/png": "[encoded data removed]",
      "text/plain": [
       "<Figure size 432x288 with 1 Axes>"
      ]
     },
     "metadata": {
      "needs_background": "light"
     },
     "output_type": "display_data"
    }
   ],
   "source": [
    "Points_Shape.plot()\n",
    "Lines_Shape.plot()\n",
    "Polygons_Shape.plot()\n",
    "# Multiple plots can be added at once"
   ]
  },
  {
   "cell_type": "code",
   "execution_count": null,
   "metadata": {},
   "outputs": [],
   "source": [
    "# They can also be overlayed on top of one another\n",
    "Basic_shapes = Polygons_Shape.boundary.plot(figsize=(18, 12), color='Black', linewidth=.5)\n",
    "Points_Shape.plot(ax=Basic_shapes, markersize=50, color='Red')\n",
    "Lines_Shape.plot(ax=Basic_shapes, color=\"Yellow\")\n",
    "Shapes_out = Polygons_Shape.plot(ax=Basic_shapes, color=\"Green\")\n",
    "# ax sets the axes on which the plots will be displayed, in this case on the boundary of the polygons extent (Basic_shapes)"
   ]
  },
  {
   "cell_type": "markdown",
   "metadata": {},
   "source": [
    "# Real World Data"
   ]
  },
  {
   "cell_type": "code",
   "execution_count": null,
   "metadata": {},
   "outputs": [],
   "source": [
    "# Lets add some more recognisable shapefiles, in this case, Scotland\n",
    "Scot_plot = gpd.read_file(\"Data/Shapefiles/Scotland.shp\")\n",
    "Scot_map = Scot_plot.boundary.plot(figsize=(18, 12), color='Black', linewidth=.5)\n",
    "Points_Shape.plot(ax=Scot_map, markersize=50, color='Red')\n",
    "Lines_Shape.plot(ax=Scot_map, color=\"Yellow\")\n",
    "Scot_shapes = Polygons_Shape.plot(ax=Scot_map, color=\"Green\")"
   ]
  },
  {
   "cell_type": "code",
   "execution_count": null,
   "metadata": {},
   "outputs": [],
   "source": [
    "# With this we can see that these basic shapes have geographical data associted with them, tying them to real geographical locations\n",
    "Scot_plot.geometry.total_bounds"
   ]
  },
  {
   "cell_type": "code",
   "execution_count": null,
   "metadata": {},
   "outputs": [],
   "source": [
    "Scot_plot.crs"
   ]
  },
  {
   "cell_type": "code",
   "execution_count": null,
   "metadata": {},
   "outputs": [],
   "source": [
    "# Now lets add the rest of the UK constituencies to the plot\n",
    "Constits = gpd.read_file(\"Data/Shapefiles/Constituencies.shp\")\n",
    "Constits_map = Constits.boundary.plot(figsize=(18, 12), color='Black', linewidth=.5)\n",
    "Scot_plot.plot(ax=Constits_map)\n",
    "Constits_map = Constits.plot(ax=Constits_map)\n",
    "# Note that the constituencies and Scotland hapefile are both in this plot"
   ]
  },
  {
   "cell_type": "code",
   "execution_count": null,
   "metadata": {},
   "outputs": [],
   "source": [
    "# We can also zoom in, adjusting the extent by setting an x and y limit based on the extent of a specific shapefile\n",
    "fig, ax = plt.subplots(figsize = (10,6))\n",
    "xlim = ([Scot_plot.total_bounds[0],  Scot_plot.total_bounds[2]])\n",
    "ylim = ([Scot_plot.total_bounds[1],  Scot_plot.total_bounds[3]])\n",
    "ax.set_xlim(xlim)\n",
    "ax.set_ylim(ylim)\n",
    "Constits.plot(ax=ax)\n",
    "Constits.boundary.plot(color='black', linewidth=0.5, ax=ax)\n",
    "\n"
   ]
  },
  {
   "cell_type": "code",
   "execution_count": null,
   "metadata": {},
   "outputs": [],
   "source": [
    "Constits.boundary.plot(figsize=(18, 12), color='Black', linewidth=.5)\n",
    "# It can also be plotted without a fill"
   ]
  },
  {
   "cell_type": "markdown",
   "metadata": {},
   "source": [
    "# Greater Customisation and Visualisation"
   ]
  },
  {
   "cell_type": "code",
   "execution_count": null,
   "metadata": {},
   "outputs": [],
   "source": [
    "# These maps are fine, but not very colourful\n",
    "Constits.plot(cmap='viridis', figsize=(18,16))\n",
    "# viridis offers a default colour map, but there are many other options, see:\n",
    "# \"https://matplotlib.org/stable/tutorials/colors/colormaps.html\"\n",
    "# figsize simply sets the size of the output, this does not affect the data itself in any way"
   ]
  },
  {
   "cell_type": "code",
   "execution_count": null,
   "metadata": {
    "scrolled": true
   },
   "outputs": [],
   "source": [
    "# We can also colour these based on attributes, by using column, and adding a legend\n",
    "Constits.plot(figsize=(18,16), column='country_na', legend='True')"
   ]
  },
  {
   "cell_type": "code",
   "execution_count": null,
   "metadata": {},
   "outputs": [],
   "source": [
    "# Colour can also be changed based on attributes. Lets make some variables for each country of the UK\n",
    "Eng = Constits[Constits['country_na'].isin(['England'])]\n",
    "Scot = Constits[Constits['country_na'].isin(['Scotland'])]\n",
    "Wales = Constits[Constits['country_na'].isin(['Wales'])]\n",
    "N_Ire = Constits[Constits['country_na'].isin(['Northern Ireland'])]"
   ]
  },
  {
   "cell_type": "code",
   "execution_count": null,
   "metadata": {},
   "outputs": [],
   "source": [
    "# Now we can plot each on top of the other, with different colours\n",
    "UK_Map = Constits.boundary.plot(figsize=(18, 12), color='Black', linewidth=.5)\n",
    "Eng.plot(ax=UK_Map,  color=\"Red\")\n",
    "Scot.plot(ax=UK_Map, color=\"Blue\")\n",
    "Wales.plot(ax=UK_Map, color=\"Orange\")\n",
    "final_map = N_Ire.plot(ax=UK_Map, color=\"Green\")"
   ]
  },
  {
   "cell_type": "markdown",
   "metadata": {},
   "source": [
    "# Adding Additional Attributes"
   ]
  },
  {
   "cell_type": "code",
   "execution_count": null,
   "metadata": {},
   "outputs": [],
   "source": [
    "# With more attributes linked to our geographic data, we have even greater scope for visualisation\n",
    "Elec = pd.read_csv('Data/csv/Election_Results.csv')"
   ]
  },
  {
   "cell_type": "code",
   "execution_count": null,
   "metadata": {},
   "outputs": [],
   "source": [
    "Elec.head()"
   ]
  },
  {
   "cell_type": "code",
   "execution_count": null,
   "metadata": {},
   "outputs": [],
   "source": [
    "# With this we combine the geodataframe with the data from Elec\n",
    "merged = Constits.set_index('pconname').join(Elec.set_index('constituency_name'))"
   ]
  },
  {
   "cell_type": "code",
   "execution_count": null,
   "metadata": {},
   "outputs": [],
   "source": [
    "merged.head()"
   ]
  },
  {
   "cell_type": "markdown",
   "metadata": {},
   "source": [
    "# Labels"
   ]
  },
  {
   "cell_type": "code",
   "execution_count": null,
   "metadata": {},
   "outputs": [],
   "source": [
    "fig, ax = plt.subplots(figsize = (20,20))\n",
    "merged.apply(lambda x: ax.annotate(text=x.turnout, xy=x.geometry.centroid.coords[0], ha='center', fontsize=5, backgroundcolor=\"black\", color=\"White\"),axis=1);\n",
    "merged.boundary.plot(ax=ax, color=\"Black\", linewidth=0.5)\n",
    "Eng.plot(ax=ax,  color=\"Red\")\n",
    "Scot.plot(ax=ax, color=\"Blue\")\n",
    "Wales.plot(ax=ax, color=\"Orange\")\n",
    "N_Ire.plot(ax=ax, color=\"Green\")\n",
    "# Annotate allows text to be added, and further detail can be plotted over this with various parameters\n",
    "# Though with so many different small constituencies, this specific labeling is not particularly helpful..."
   ]
  },
  {
   "cell_type": "code",
   "execution_count": null,
   "metadata": {},
   "outputs": [],
   "source": [
    "# Let's try an example with Scotland isolated"
   ]
  },
  {
   "cell_type": "code",
   "execution_count": null,
   "metadata": {},
   "outputs": [],
   "source": [
    "fig, ax = plt.subplots(figsize = (20,20))\n",
    "Scot_plot.apply(lambda x: ax.annotate(text=x.pconname, xy=x.geometry.centroid.coords[0], ha='center', fontsize=5, backgroundcolor=\"yellow\", color=\"black\"),axis=1);\n",
    "Scot_plot.boundary.plot(ax=ax, color=\"Black\", linewidth=0.5)\n",
    "plt.xlabel('Longitude')\n",
    "plt.ylabel('Latitude')\n",
    "# Labels can be added to the axes using x and y label"
   ]
  },
  {
   "cell_type": "markdown",
   "metadata": {},
   "source": [
    "# Plot New Attributes"
   ]
  },
  {
   "cell_type": "code",
   "execution_count": null,
   "metadata": {},
   "outputs": [],
   "source": [
    "# Rather than simply labeling with the new attributes, we can have more meaningful visualisations\n",
    "merged.plot(column='first_party', cmap='Pastel2', linewidth=0.8, edgecolor='Black', figsize=(18, 12))"
   ]
  },
  {
   "cell_type": "code",
   "execution_count": null,
   "metadata": {},
   "outputs": [],
   "source": [
    "# We can use some more appropriate colours for this visualisation based on winning parties in each constituency\n",
    "Con = merged[merged['first_party'].isin(['Con'])]\n",
    "Lab = merged[merged['first_party'].isin(['Lab'])]\n",
    "SNP = merged[merged['first_party'].isin(['SNP'])]\n",
    "LD = merged[merged['first_party'].isin(['LD'])]\n",
    "DUP = merged[merged['first_party'].isin(['DUP'])]\n",
    "PC = merged[merged['first_party'].isin(['PC'])]\n",
    "Green = merged[merged['first_party'].isin(['Green'])]\n",
    "SF = merged[merged['first_party'].isin(['SF'])]\n",
    "SDLP = merged[merged['first_party'].isin(['SDLP'])]\n",
    "UUP = merged[merged['first_party'].isin(['UUP'])]\n",
    "Ind = merged[merged['first_party'].isin(['Ind'])]\n",
    "UKIP = merged[merged['first_party'].isin(['UKIP'])]\n",
    "Spk = merged[merged['first_party'].isin(['Spk'])]"
   ]
  },
  {
   "cell_type": "code",
   "execution_count": null,
   "metadata": {},
   "outputs": [],
   "source": [
    "UK_part_map = merged.boundary.plot(figsize=(18, 16), color='Black', linewidth=.5)\n",
    "Con.plot(ax=UK_part_map, color=\"#0087DC\")\n",
    "Lab.plot(ax=UK_part_map, color=\"#E4003B\")\n",
    "SNP.plot(ax=UK_part_map, color=\"#FDF38E\")\n",
    "LD.plot(ax=UK_part_map, color=\"#FAA61A\")\n",
    "DUP.plot(ax=UK_part_map, color=\"#D46A4C\")\n",
    "PC.plot(ax=UK_part_map, color=\"#005B54\")\n",
    "Green.plot(ax=UK_part_map, color=\"#528D6B\")\n",
    "SF.plot(ax=UK_part_map, color=\"#326760\")\n",
    "SDLP.plot(ax=UK_part_map, color=\"#2AA82C\")\n",
    "UUP.plot(ax=UK_part_map, color=\"#48A5EE\")\n",
    "Ind.plot(ax=UK_part_map, color=\"#DDDDDD\")\n",
    "UKIP.plot(ax=UK_part_map, color=\"#70147A\")\n",
    "final_map = Spk.plot(ax=UK_part_map, color=\"white\")"
   ]
  },
  {
   "cell_type": "markdown",
   "metadata": {},
   "source": [
    "# Combining Plots"
   ]
  },
  {
   "cell_type": "code",
   "execution_count": null,
   "metadata": {},
   "outputs": [],
   "source": [
    "# Two (or more) separate plots can be alligned next to one another for easier comparison\n",
    "# Subplots can be used for this. The (121) arguments shows that there is 1 row, 2 columns and the current axis is plot 1\n",
    "\n",
    "fig = plt.figure(figsize=(20,20))\n",
    "fig.suptitle('UK General Election 2015 Results and Turnout', fontsize=40)\n",
    "ax1 = fig.add_subplot(121)\n",
    "\n",
    "ax1.set_title('2015 Election Results', fontdict={'fontsize': '25', 'fontweight' : '3'})\n",
    "\n",
    "merged.boundary.plot(ax=ax1,color='Black', linewidth=.5)\n",
    "Con.plot(ax=ax1, color=\"#0087DC\")\n",
    "Lab.plot(ax=ax1, color=\"#E4003B\")\n",
    "SNP.plot(ax=ax1, color=\"#FDF38E\")\n",
    "LD.plot(ax=ax1, color=\"#FAA61A\")\n",
    "DUP.plot(ax=ax1, color=\"#D46A4C\")\n",
    "PC.plot(ax=ax1, color=\"#005B54\")\n",
    "Green.plot(ax=ax1, color=\"#528D6B\")\n",
    "SF.plot(ax=ax1, color=\"#326760\")\n",
    "SDLP.plot(ax=ax1, color=\"#2AA82C\")\n",
    "UUP.plot(ax=ax1, color=\"#48A5EE\")\n",
    "Ind.plot(ax=ax1, color=\"#DDDDDD\")\n",
    "UKIP.plot(ax=ax1, color=\"#70147A\")\n",
    "Spk.plot(ax=ax1, color=\"white\")\n",
    "\n",
    "ax2 = fig.add_subplot(122)\n",
    "ax2.set_title('2015 Election Turnout', fontdict={'fontsize': '25', 'fontweight' : '3'})\n",
    "merged.plot(column='turnout', cmap='OrRd_r', linewidth=0.5, edgecolor='Black', figsize=(18, 12), ax=ax2, legend='True', legend_kwds={'label': \"Turnout (%)\"})"
   ]
  },
  {
   "cell_type": "code",
   "execution_count": null,
   "metadata": {},
   "outputs": [],
   "source": [
    "# Titles and legends can be added for the entire plot (fig.) or for the specific plots (ax1./ax2. etc.)"
   ]
  },
  {
   "cell_type": "code",
   "execution_count": null,
   "metadata": {},
   "outputs": [],
   "source": [
    "# Overlaying additional shapefiles in different formats (in this case Cities points) is straightforward\n",
    "# Two (or more) separate plots can be alligned next to one another for easier comparison\n",
    "# Subplots can be used for this. The (121) arguments shows that there is 1 row, 2 columns and the current axis is plot 1\n",
    "Cities = gpd.read_file(\"Data/Shapefiles/Cities.shp\")\n",
    "\n",
    "fig = plt.figure(figsize=(20,20))\n",
    "fig.suptitle('UK General Election 2015 Results and Turnout', fontsize=40)\n",
    "\n",
    "ax1 = fig.add_subplot(121)\n",
    "\n",
    "ax1.set_title('2015 Election Results', fontdict={'fontsize': '25', 'fontweight' : '3'})\n",
    "\n",
    "merged.boundary.plot(ax=ax1,color='Black', linewidth=.5)\n",
    "Con.plot(ax=ax1, color=\"#0087DC\")\n",
    "Lab.plot(ax=ax1, color=\"#E4003B\")\n",
    "SNP.plot(ax=ax1, color=\"#FDF38E\")\n",
    "LD.plot(ax=ax1, color=\"#FAA61A\")\n",
    "DUP.plot(ax=ax1, color=\"#D46A4C\")\n",
    "PC.plot(ax=ax1, color=\"#005B54\")\n",
    "Green.plot(ax=ax1, color=\"#528D6B\")\n",
    "SF.plot(ax=ax1, color=\"#326760\")\n",
    "SDLP.plot(ax=ax1, color=\"#2AA82C\")\n",
    "UUP.plot(ax=ax1, color=\"#48A5EE\")\n",
    "Ind.plot(ax=ax1, color=\"#DDDDDD\")\n",
    "UKIP.plot(ax=ax1, color=\"#70147A\")\n",
    "Spk.plot(ax=ax1, color=\"white\")\n",
    "Cities.plot(ax=ax1, color=\"black\")\n",
    "plt.xlabel('Longitude')\n",
    "plt.ylabel('Latitude')\n",
    "\n",
    "ax2 = fig.add_subplot(122)\n",
    "ax2.set_title('2015 Election Turnout', fontdict={'fontsize': '25', 'fontweight' : '3'})\n",
    "merged.plot(column='turnout', cmap='OrRd_r', linewidth=0.5, edgecolor='Black', figsize=(18, 12), ax=ax2, legend='True', legend_kwds={'label': \"Turnout (%)\"})\n",
    "plt.xlabel('Longitude')\n",
    "plt.ylabel('Latitude')"
   ]
  },
  {
   "cell_type": "markdown",
   "metadata": {},
   "source": [
    "# Exporting Plots"
   ]
  },
  {
   "cell_type": "code",
   "execution_count": null,
   "metadata": {},
   "outputs": [],
   "source": [
    "# Plots can be exported as various different formats using .savefig()\n",
    "# This can be used in conjuction with, or instead of visualising the plot\n",
    "fig, ax = plt.subplots(figsize = (20,20))\n",
    "\n",
    "ax.set_title('2015 Election Results', fontdict={'fontsize': '25', 'fontweight' : '3'})\n",
    "\n",
    "merged.boundary.plot(ax=ax,color='Black', linewidth=.5)\n",
    "Con.plot(ax=ax, color=\"#0087DC\")\n",
    "Lab.plot(ax=ax, color=\"#E4003B\")\n",
    "SNP.plot(ax=ax, color=\"#FDF38E\")\n",
    "LD.plot(ax=ax, color=\"#FAA61A\")\n",
    "DUP.plot(ax=ax, color=\"#D46A4C\")\n",
    "PC.plot(ax=ax, color=\"#005B54\")\n",
    "Green.plot(ax=ax, color=\"#528D6B\")\n",
    "SF.plot(ax=ax, color=\"#326760\")\n",
    "SDLP.plot(ax=ax, color=\"#2AA82C\")\n",
    "UUP.plot(ax=ax, color=\"#48A5EE\")\n",
    "Ind.plot(ax=ax, color=\"#DDDDDD\")\n",
    "UKIP.plot(ax=ax, color=\"#70147A\")\n",
    "Spk.plot(ax=ax, color=\"white\")\n",
    "Cities.plot(ax=ax, color=\"black\")\n",
    "plt.xlabel('Longitude')\n",
    "plt.ylabel('Latitude')\n",
    "\n",
    "plt.savefig('Output/Results.png')"
   ]
  },
  {
   "cell_type": "code",
   "execution_count": null,
   "metadata": {},
   "outputs": [],
   "source": [
    "# .savefig() has additional options for the desired output\n",
    "\n",
    "fig, ax = plt.subplots(figsize = (20,20))\n",
    "ax.set_title('2015 Election Turnout', fontdict={'fontsize': '25', 'fontweight' : '3'})\n",
    "merged.plot(column='turnout', cmap='OrRd_r', linewidth=0.5, edgecolor='Black', figsize=(18, 12), ax=ax, legend='True', legend_kwds={'label': \"Turnout (%)\"})\n",
    "plt.xlabel('Longitude')\n",
    "plt.ylabel('Latitude')\n",
    "\n",
    "plt.savefig('Output/Turnout.jpg', dpi=30, transparent='True', bbox_inches='tight')"
   ]
  },
  {
   "cell_type": "code",
   "execution_count": null,
   "metadata": {},
   "outputs": [],
   "source": [
    "# There is much more to Geographical Data with Python, but hopefully with these basics, you will be able to find suitable methods and outputs for your own research"
   ]
  }
 ],
 "metadata": {
  "kernelspec": {
   "display_name": "Python 3",
   "language": "python",
   "name": "python3"
  },
  "language_info": {
   "codemirror_mode": {
    "name": "ipython",
    "version": 3
   },
   "file_extension": ".py",
   "mimetype": "text/x-python",
   "name": "python",
   "nbconvert_exporter": "python",
   "pygments_lexer": "ipython3",
   "version": "3.7.6"
  }
 },
 "nbformat": 4,
 "nbformat_minor": 5
}
